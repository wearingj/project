{
 "cells": [
  {
   "cell_type": "code",
   "execution_count": 3,
   "id": "fe7ddba1",
   "metadata": {
    "deletable": false,
    "editable": false
   },
   "outputs": [],
   "source": [
    "# Initialize Otter\n",
    "import otter\n",
    "grader = otter.Notebook(\"assignment_06.ipynb\")"
   ]
  },
  {
   "cell_type": "markdown",
   "id": "6532e232",
   "metadata": {},
   "source": [
    "# File Names, Project Organization and Virtual Environments\n"
   ]
  },
  {
   "cell_type": "markdown",
   "id": "7d4acc3e",
   "metadata": {},
   "source": [
    "<!-- BEGIN QUESTION -->\n",
    "\n",
    "<div class=\"alert alert-info\">\n",
    "\n",
    "## Submission instructions\n",
    "\n",
    "<p>You receive marks for submitting your lab correctly, please follow these instructions:</p>\n",
    "\n",
    "<ul>\n",
    "  <!-- <li>Make at least three commits.</li>-->\n",
    "  <li>Export to HTML via <code>File -> Save and export notebook as... -> HTML</code> and upload the HTML file to Canvas.</li>\n",
    "    <ul>\n",
    "      <li>Before submitting, make sure you restart the kernel and rerun all cells.</li>\n",
    "    </ul>\n",
    "  <li>Don't change any variable names that are given to you, don't move cells around, and don't include any code to install packages in the notebook.</li>\n",
    "  </li>\n",
    "</ul>\n",
    "</div>\n",
    "\n",
    "_Points:_ 1"
   ]
  },
  {
   "cell_type": "markdown",
   "id": "efd461d2",
   "metadata": {},
   "source": [
    "<!-- END QUESTION -->\n",
    "\n",
    "----\n",
    "\n",
    "## Recap\n",
    "\n",
    "**Step 1** Let's first practice skills we have learnt in a previous Modules:\n",
    "\n",
    "1.  Create a new GitHub repo called `project`\n",
    "\n",
    "    - make repo `Public`\n",
    "    - initialize a repo with `README` file\n",
    "    - Choose a license : `MIT License`  \n",
    "\n",
    "2.  After the repo is created, add `.gitignore` file and populate it with `**/*.log`, `.DS_Store` and `.ipynb_checkpoints`\n",
    " \n",
    " \n",
    "3. Clone the `project` repo to your computer\n",
    "\n",
    "    - create a branch called `developer-1` \n",
    "    - set up the tracking branch for your local `developer-1` branch and use it to make any changes to your repo \n",
    "    - publish the branch on the remote\n",
    "\n",
    "\n",
    "\n",
    "4. Fork the repo https://github.com/yuliaUU/files_to_copy \n",
    "\n",
    "    - copy the **content** of the repo into your `project` repo (**do not add any hidden or git files**)\n",
    "\n",
    "\n",
    "   \n",
    "for this exercise you will be working with your `project` repo and files that you have copied"
   ]
  },
  {
   "cell_type": "markdown",
   "id": "8779b27c",
   "metadata": {},
   "source": [
    "-----\n",
    "\n",
    "## Part I: File Naming\n",
    "\n",
    "A proper file naming system is essential when working on a project to ensure organization, efficiency, and collaboration. Consistent naming conventions make it easier to locate and identify files, reducing time spent searching and minimizing the risk of losing important data. Additionally, a well-structured naming system promotes seamless collaboration among team members, as everyone can easily understand and access the required files, thereby streamlining the overall project workflow."
   ]
  },
  {
   "cell_type": "markdown",
   "id": "081430cd",
   "metadata": {},
   "source": [
    "<div class=\"alert alert-info\">\n",
    "    \n",
    "### Question 1\n",
    "\n",
    "Which of the following are important rules for naming files on a computer? Select all correct answers.\n",
    "\n",
    "\n",
    "A)  Files names should play well with default ordering  \n",
    "B)  The American date convention MM-DD-YYYY is good to use in file names  \n",
    "C)  File name parts should be easy to extract programmatically  \n",
    "D)  Underscores are the only allowed separator in file names  \n",
    "E)  File names should always use upper-case letters  \n",
    "F)  File names should be informative to humans  \n",
    "</div>\n",
    " \n",
    "\n",
    "_Points:_ 1"
   ]
  },
  {
   "cell_type": "code",
   "execution_count": 1,
   "id": "49e563ae",
   "metadata": {
    "tags": []
   },
   "outputs": [
    {
     "data": {
      "text/plain": [
       "'ACF'"
      ]
     },
     "execution_count": 1,
     "metadata": {},
     "output_type": "execute_result"
    }
   ],
   "source": [
    "# Your answer should be a string with all the letters of the options you think are correct, e.g. 'AB'\n",
    "q1 = \"ACF\"\n",
    "q1"
   ]
  },
  {
   "cell_type": "code",
   "execution_count": 4,
   "id": "5d7af007",
   "metadata": {
    "deletable": false,
    "editable": false
   },
   "outputs": [
    {
     "data": {
      "text/html": [
       "<p><strong><pre style='display: inline;'>q1</pre></strong> passed! 🍀</p>"
      ],
      "text/plain": [
       "q1 results: All test cases passed!"
      ]
     },
     "execution_count": 4,
     "metadata": {},
     "output_type": "execute_result"
    }
   ],
   "source": [
    "grader.check(\"q1\")"
   ]
  },
  {
   "cell_type": "markdown",
   "id": "1527f8b6",
   "metadata": {},
   "source": [
    "<div class=\"alert alert-info\">\n",
    "    \n",
    "### Question 2\n",
    "    \n",
    "Match each explanation with its corresponding file naming principle discussed in this module:\n",
    "    \n",
    "<table>\n",
    "<tr>\n",
    "<td> <b>Definitions:</b></td>\n",
    "<td> <b>Match the terms on the left with the definitions from the list below:</b></td>\n",
    "</tr>\n",
    "<tr>\n",
    "<td> \n",
    "    \n",
    "1. Machine readability\n",
    "2. Human readability\n",
    "3. Compatibility with default ordering\n",
    "\n",
    "   \n",
    "</td>\n",
    "<td> \n",
    "        \n",
    "A)  By following this principle, we will be sure that our files have the appropriate formatting in terms of their content. Such files will be ready for subsequent analysis in a data science pipeline.  \n",
    "B) By following this principle, we can have a good idea of what is inside files without having to open them (saves us time) and when we come back to work on a project we haven't worked on in a while it is much easier for us to remember what we were working on and get started again.    \n",
    "C) By following this principle, we can make our files more organized. Files will be sorted into a logical order so it is easy to orient yourself in the directory and find the files you want to find.   \n",
    "D) By following this principle, we are able to use tools such as regular expressions and file-name globbing to search, select and manipulate files using tools such as the unix shell, R and Python.     \n",
    "\n",
    "</td>\n",
    "</tr>\n",
    "</table>\n",
    "</div>\n",
    "\n",
    "_Points:_ 1"
   ]
  },
  {
   "cell_type": "code",
   "execution_count": 5,
   "id": "895effd9",
   "metadata": {
    "tags": []
   },
   "outputs": [
    {
     "data": {
      "text/plain": [
       "'DBC'"
      ]
     },
     "execution_count": 5,
     "metadata": {},
     "output_type": "execute_result"
    }
   ],
   "source": [
    "# Your answer should be a string with all the letters of the options you think are correct, e.g. 'AB'\n",
    "q2 = \"DBC\"\n",
    "q2"
   ]
  },
  {
   "cell_type": "code",
   "execution_count": 6,
   "id": "d2f37d7c",
   "metadata": {
    "deletable": false,
    "editable": false
   },
   "outputs": [
    {
     "data": {
      "text/html": [
       "<p><strong><pre style='display: inline;'>q2</pre></strong> passed! 💯</p>"
      ],
      "text/plain": [
       "q2 results: All test cases passed!"
      ]
     },
     "execution_count": 6,
     "metadata": {},
     "output_type": "execute_result"
    }
   ],
   "source": [
    "grader.check(\"q2\")"
   ]
  },
  {
   "cell_type": "markdown",
   "id": "c5c7d329",
   "metadata": {},
   "source": [
    "<div class=\"alert alert-info\">\n",
    "    \n",
    "### Question 3\n",
    "    \n",
    "Open the `project` repo and navigate to `weekly meetings` folder. There you can see a list of five `.md` files with meeting minutes for a data science company. Which of the following file names are best in line with the principles you've learned?\n",
    "\n",
    "A) `meeting-minutes_2020-01-21T0700.md`    \n",
    "B) `2023-1-21_meeting-minutes.md`    \n",
    "C) `2023-01-21T0700_meeting-minutes.md`    \n",
    "D) `2023-01-21T07:00_meeting-minutes.md`  \n",
    "E) `2023-01-21T0700meetingminutes.md`  \n",
    " \n",
    "\n",
    "</div>\n",
    "\n",
    "_Points:_ 1"
   ]
  },
  {
   "cell_type": "code",
   "execution_count": 9,
   "id": "c99a438c",
   "metadata": {
    "tags": []
   },
   "outputs": [
    {
     "data": {
      "text/plain": [
       "'C'"
      ]
     },
     "execution_count": 9,
     "metadata": {},
     "output_type": "execute_result"
    }
   ],
   "source": [
    "# Your answer should be a string with all the letters of the options you think are correct, e.g. 'AB'\n",
    "q3 = \"C\"\n",
    "q3"
   ]
  },
  {
   "cell_type": "code",
   "execution_count": 10,
   "id": "6b76510b",
   "metadata": {
    "deletable": false,
    "editable": false
   },
   "outputs": [
    {
     "data": {
      "text/html": [
       "<p><strong><pre style='display: inline;'>q3</pre></strong> passed! 🌟</p>"
      ],
      "text/plain": [
       "q3 results: All test cases passed!"
      ]
     },
     "execution_count": 10,
     "metadata": {},
     "output_type": "execute_result"
    }
   ],
   "source": [
    "grader.check(\"q3\")"
   ]
  },
  {
   "cell_type": "markdown",
   "id": "e4b78644",
   "metadata": {},
   "source": [
    "**Step 2:** Rename the files in your `weekly meetings` repository according to the best practices for file names. Commit your changes and push to the remote"
   ]
  },
  {
   "cell_type": "markdown",
   "id": "76004df6",
   "metadata": {},
   "source": [
    "<div class=\"alert alert-info\">\n",
    "    \n",
    "### Question 4 \n",
    "\n",
    "Go to folder `Documents`. Which of the following file names are best in line with the principles you've learned?\n",
    "\n",
    "A) `Report 01.docx`   \n",
    "B) `Report1.docx`  \n",
    "C) `Report01.docx`   \n",
    "D) `report_01.docx`     \n",
    "E) `report 01.docx`   \n",
    "\n",
    "</div>\n",
    "\n",
    "_Points:_ 1"
   ]
  },
  {
   "cell_type": "code",
   "execution_count": 13,
   "id": "89c9f73b",
   "metadata": {
    "tags": []
   },
   "outputs": [
    {
     "data": {
      "text/plain": [
       "'D'"
      ]
     },
     "execution_count": 13,
     "metadata": {},
     "output_type": "execute_result"
    }
   ],
   "source": [
    "# Your answer should be a string with all the letters of the options you think are correct, e.g. 'AB'\n",
    "q4 = \"D\"\n",
    "q4"
   ]
  },
  {
   "cell_type": "code",
   "execution_count": 14,
   "id": "4dad4565",
   "metadata": {
    "deletable": false,
    "editable": false
   },
   "outputs": [
    {
     "data": {
      "text/html": [
       "<p><strong><pre style='display: inline;'>q4</pre></strong> passed! 🍀</p>"
      ],
      "text/plain": [
       "q4 results: All test cases passed!"
      ]
     },
     "execution_count": 14,
     "metadata": {},
     "output_type": "execute_result"
    }
   ],
   "source": [
    "grader.check(\"q4\")"
   ]
  },
  {
   "cell_type": "markdown",
   "id": "1635d935",
   "metadata": {},
   "source": [
    "**Step 3:** Rename all files in `Documents` folder accordingly, commit and push changes"
   ]
  },
  {
   "cell_type": "markdown",
   "id": "b440ce55",
   "metadata": {},
   "source": [
    "<div class=\"alert alert-info\">\n",
    "    \n",
    "### Question 5\n",
    "\n",
    "Find `dataset-csv` file  in the repository. What issues can you find with it?\n",
    "\n",
    "\n",
    "\n",
    "A)\tThere are no issues, the name is comprehensive and clear  \n",
    "B) The file extension format is off  \n",
    "C)\tThe file name is not machine readable   \n",
    "D)\tThe file name is not informative to humans  \n",
    "E)\tThe file name should start with an upper-case letter  \n",
    "\n",
    "\n",
    "</div>\n",
    "\n",
    "\n",
    "_Points:_ 1"
   ]
  },
  {
   "cell_type": "code",
   "execution_count": 19,
   "id": "2d2d1497",
   "metadata": {
    "tags": []
   },
   "outputs": [
    {
     "data": {
      "text/plain": [
       "'B'"
      ]
     },
     "execution_count": 19,
     "metadata": {},
     "output_type": "execute_result"
    }
   ],
   "source": [
    "# Your answer should be a string with all the letters of the options you think are correct, e.g. 'AB'\n",
    "q5 = \"B\"\n",
    "q5"
   ]
  },
  {
   "cell_type": "code",
   "execution_count": 20,
   "id": "166403e8",
   "metadata": {
    "deletable": false,
    "editable": false
   },
   "outputs": [
    {
     "data": {
      "text/html": [
       "<p><strong><pre style='display: inline;'>q5</pre></strong> passed! 🌟</p>"
      ],
      "text/plain": [
       "q5 results: All test cases passed!"
      ]
     },
     "execution_count": 20,
     "metadata": {},
     "output_type": "execute_result"
    }
   ],
   "source": [
    "grader.check(\"q5\")"
   ]
  },
  {
   "cell_type": "markdown",
   "id": "64f588ee",
   "metadata": {},
   "source": [
    "**Step 4:** Rename the file accordingly, commit and push changes"
   ]
  },
  {
   "cell_type": "markdown",
   "id": "962df911",
   "metadata": {},
   "source": [
    "<div class=\"alert alert-info\">\n",
    "    \n",
    "### Question 6\n",
    "\n",
    "Find all python scripts in the folder (`.py` extention). These files are run in the following order: generate the data with `gen-data.py`, plot the dataset `untitled1.py` and plot the predictions with `untitled2.py`\n",
    "    \n",
    "What will be a better way to name the files?\n",
    "    \n",
    "A)\t`generate-data_01.py`, `visualize-data_02.py`, `plot-predictions_03.py`  \n",
    "B)  `01generate-data.py`, `02visualize-data.py`, `03plot-predictions.py`   \n",
    "C)\t`script_01.py`, `script_02.py`, `script_03.py`  \n",
    "D)\t`01_generate-data.py`, `02_visualize-data.py`, `03_plot-predictions.py`  \n",
    "  \n",
    "</div>\n",
    "\n",
    "_Points:_ 1"
   ]
  },
  {
   "cell_type": "code",
   "execution_count": 21,
   "id": "3860bdb6",
   "metadata": {
    "tags": []
   },
   "outputs": [
    {
     "data": {
      "text/plain": [
       "'D'"
      ]
     },
     "execution_count": 21,
     "metadata": {},
     "output_type": "execute_result"
    }
   ],
   "source": [
    "# Your answer should be a string with all the letters of the options you think are correct, e.g. 'AB'\n",
    "q6 = \"D\"\n",
    "q6"
   ]
  },
  {
   "cell_type": "code",
   "execution_count": 22,
   "id": "4b69ff12",
   "metadata": {
    "deletable": false,
    "editable": false
   },
   "outputs": [
    {
     "data": {
      "text/html": [
       "<p><strong><pre style='display: inline;'>q6</pre></strong> passed! 🌈</p>"
      ],
      "text/plain": [
       "q6 results: All test cases passed!"
      ]
     },
     "execution_count": 22,
     "metadata": {},
     "output_type": "execute_result"
    }
   ],
   "source": [
    "grader.check(\"q6\")"
   ]
  },
  {
   "cell_type": "markdown",
   "id": "68a4caed",
   "metadata": {},
   "source": [
    "**Step 5:** Rename these files accordingly in your repo, commit and push changes"
   ]
  },
  {
   "cell_type": "markdown",
   "id": "9a7fa27a",
   "metadata": {},
   "source": [
    "-----\n",
    "\n",
    "# Part II: Project organization\n",
    "\n",
    "Once you done with renaming the files, let's make sure that our project organization is clean and easy to follow. \n",
    "\n",
    "One very useful learning strategy for data science is to look and reflect on how others in the field do things, and then incorporate the useful ideas/strategies/tools into your own practice. Let's look at project organization for two different types of data science projects:\n",
    "\n",
    "-   data analysis projects -> the focus is answering a research/business question using data science tools,\n",
    "-   data science tools projects -> the focus is creating a tool you or others can later use to help solve a research/business question with data analysis.\n",
    "\n",
    "Here are some example repositories for both categories of projects:\n",
    "\n",
    "Data analysis:\n",
    "\n",
    "-   <https://github.com/benmarwick/Pleistocene-aged-stone-artefacts-from-Jerimalai--East-Timor>\n",
    "-   <https://github.com/bici-sancta/gdp_worldbank>\n",
    "-   <https://github.com/jooolia/RdRp_454_amplicons_Jericho_and_SOG>\n",
    "-   <https://github.com/ttimbers/equine_numbers_value_canada>\n",
    "\n",
    "Data science tools:\n",
    "\n",
    "-   [dplyr](https://github.com/tidyverse/dplyr)\n",
    "-   [seaborn](https://github.com/mwaskom/seaborn)\n",
    "-   [pandas](https://github.com/pandas-dev/pandas)\n",
    "-   [topojson](https://github.com/topojson/topojson)"
   ]
  },
  {
   "cell_type": "markdown",
   "id": "52abe17b",
   "metadata": {},
   "source": [
    "<div class=\"alert alert-info\">\n",
    "    \n",
    "### Question 7\n",
    "\n",
    "Now briefly reflect on the similarities and differences between the project organization used in the analysis and tools repos. In doing so, consider both the folder organization and which files go into the folders. For each statement (1-6) match it with a letter (A, B, or C) to indicate which features are more common in which type of project.\n",
    "\n",
    "<table>\n",
    "<tr>\n",
    "<td> <b>Definitions:</b></td>\n",
    "<td> <b>Match the terms on the left with the definitions from the list below:</b></td>\n",
    "</tr>\n",
    "<tr>\n",
    "<td> \n",
    "    \n",
    "1. Having a license file and contribution guidelines\n",
    "2. Containing a report, presentation, or manuscript\n",
    "3. Using folders to organize the projects rather than a flat hierarchy\n",
    "4. Having documentation and setup/installation instructions\n",
    "5. Having a data folder\n",
    "6. Having some sort of environment file listing dependencies for increased reproducibility\n",
    "    \n",
    "</td>\n",
    "<td> \n",
    "        \n",
    "A) More common in data analysis projects  \n",
    "B) More common in data science tools projects     \n",
    "C) Common in both types of projects  \n",
    "\n",
    "</td>\n",
    "</tr>\n",
    "</table>\n",
    "\n",
    "</div>\n",
    "\n",
    "_Points:_ 1"
   ]
  },
  {
   "cell_type": "code",
   "execution_count": 25,
   "id": "55b48613",
   "metadata": {
    "tags": []
   },
   "outputs": [
    {
     "data": {
      "text/plain": [
       "'BACBAC'"
      ]
     },
     "execution_count": 25,
     "metadata": {},
     "output_type": "execute_result"
    }
   ],
   "source": [
    "# Your answer should be a string with 6 letters of the options you think are correct, e.g. 'ABACCA'\n",
    "q7 = \"BACBAC\"\n",
    "q7"
   ]
  },
  {
   "cell_type": "code",
   "execution_count": 26,
   "id": "b8caf582",
   "metadata": {
    "deletable": false,
    "editable": false
   },
   "outputs": [
    {
     "data": {
      "text/html": [
       "<p><strong><pre style='display: inline;'>q7</pre></strong> passed! 🌈</p>"
      ],
      "text/plain": [
       "q7 results: All test cases passed!"
      ]
     },
     "execution_count": 26,
     "metadata": {},
     "output_type": "execute_result"
    }
   ],
   "source": [
    "grader.check(\"q7\")"
   ]
  },
  {
   "cell_type": "markdown",
   "id": "7adc2ebc",
   "metadata": {},
   "source": [
    "<div class=\"alert alert-info\">\n",
    "    \n",
    "### Question 8 \n",
    "\n",
    "Which repo structure you think fits our `project` the best?\n",
    "\n",
    "<table>\n",
    "<tr>\n",
    "<td>\n",
    "\n",
    "A) \n",
    "```\n",
    "project/\n",
    "├── data/\n",
    "│   ├── dataset-csv\n",
    "│   ├── dataset-image.png\n",
    "│   └── LICENSE.md\n",
    "├── docs/\n",
    "│   ├── Documents/\n",
    "│   ├── Report.pdf\n",
    "│   └── Report.ipynb\n",
    "├── predictions/\n",
    "│   └── predictions.png\n",
    "├── src/\n",
    "│   ├── gen-data.py\n",
    "│   ├── untitled1.py\n",
    "│   └── untitled2.py\n",
    "└── weekly-meetings/\n",
    "└── README.md\n",
    "```\n",
    "\n",
    "</td>\n",
    "<td>\n",
    "\n",
    "B)\n",
    "```\n",
    "project/\n",
    "├── data/\n",
    "│   ├── dataset-csv\n",
    "│   └── dataset-image.png\n",
    "├── docs/\n",
    "│   ├── Documents/\n",
    "│   ├── Report.pdf\n",
    "│   └── Report.ipynb\n",
    "├── predictions/\n",
    "│   └── predictions.png\n",
    "├── src/\n",
    "│   ├── gen-data.py\n",
    "│   ├── untitled1.py\n",
    "│   └── untitled2.py\n",
    "└── weekly-meetings/\n",
    "├── LICENSE.md\n",
    "└── README.md\n",
    "```\n",
    "    \n",
    "</td>\n",
    "</tr>\n",
    "<tr>\n",
    "<td>\n",
    "  \n",
    "C)\n",
    "```\n",
    "project/\n",
    "├── data/\n",
    "│   ├── dataset-csv\n",
    "│   ├── dataset-image.png\n",
    "│   └── docs/\n",
    "│       ├── Documents/\n",
    "│       ├── Report.pdf\n",
    "│       └── Report.ipynb\n",
    "├── src/\n",
    "│   ├── gen-data.py\n",
    "│   ├── untitled1.py\n",
    "│   └── untitled2.py\n",
    "├── weekly-meetings/\n",
    "└── predictions.png\n",
    "├── LICENSE.md\n",
    "└── README.md\n",
    "```\n",
    "\n",
    "<br> \n",
    "<br>    \n",
    "</td>\n",
    "<td>\n",
    "\n",
    "D)\n",
    "```\n",
    "project/\n",
    "├── data/\n",
    "│   └── dataset-csv\n",
    "├── docs/\n",
    "│   ├── Documents/\n",
    "│   ├── weekly-meetings/\n",
    "│   └── Report.pdf\n",
    "├── images/\n",
    "│   ├── dataset-image.png\n",
    "│   └── predictions.png\n",
    "├── src/\n",
    "│   ├── gen-data.py\n",
    "│   ├── untitled1.py\n",
    "│   └── untitled2.py\n",
    "├── reports/\n",
    "│   └── Report.ipynb\n",
    "├── LICENSE.md\n",
    "└── README.md\n",
    "```\n",
    "\n",
    "</td>   \n",
    "</tr>\n",
    "</table>\n",
    "      \n",
    "\n",
    "</div>\n",
    "\n",
    "_Points:_ 1"
   ]
  },
  {
   "cell_type": "code",
   "execution_count": 27,
   "id": "0b9389f6",
   "metadata": {
    "tags": []
   },
   "outputs": [
    {
     "data": {
      "text/plain": [
       "'D'"
      ]
     },
     "execution_count": 27,
     "metadata": {},
     "output_type": "execute_result"
    }
   ],
   "source": [
    "# Your answer should be a string with all the letters of the options you think are correct, e.g. 'AB'\n",
    "q8 = \"D\"\n",
    "q8"
   ]
  },
  {
   "cell_type": "code",
   "execution_count": 28,
   "id": "60027cc0",
   "metadata": {
    "deletable": false,
    "editable": false
   },
   "outputs": [
    {
     "data": {
      "text/html": [
       "<p><strong><pre style='display: inline;'>q8</pre></strong> passed! 🙌</p>"
      ],
      "text/plain": [
       "q8 results: All test cases passed!"
      ]
     },
     "execution_count": 28,
     "metadata": {},
     "output_type": "execute_result"
    }
   ],
   "source": [
    "grader.check(\"q8\")"
   ]
  },
  {
   "cell_type": "raw",
   "id": "efa88617-c159-4321-8fcd-6252315e4d19",
   "metadata": {},
   "source": [
    "**Step 6:** Organize your files accordingly, make sure that all files/ folders are meeting requirements of proper naming and organization, commit the changes and push your `project` to remote"
   ]
  },
  {
   "cell_type": "markdown",
   "id": "98351e7c",
   "metadata": {},
   "source": [
    "-----\n",
    "\n",
    "# Part III: Conda  \n",
    "\n",
    "Let's explore the scenario: Imagine you have a desk want to keep different species of snakes. Now, each species of snake requires different conditions to survive, such as temperature, humidity, and lighting. Thus, you need multiple terrariums with different species of snakes in it. You can customize each terrarium with its own set of conditions to suit the species of snake. You also need a pet store where you can buy the required food and accessories for your snakes. \n",
    "\n",
    "<img src=\"images/Picture1.png\" width=80% >\n",
    "\n",
    "In this scenario:\n",
    " - Your desk represents your computer\n",
    " - Each terrarium with snakes represents a project or a set of applications that you are working on. Similarly, each project or set of applications that you work on might require different versions of programming languages (i,.e different versions of Python), libraries, and dependencies. This is where Conda virtual environments come in.\n",
    " - like a terrarium, A **conda virtual environment** is like a separate container that isolates the dependencies and libraries required for a particular project or application from the rest of the system. It allows you to create and manage multiple environments, each with its own set of dependencies, without interfering with other projects or applications. Each virtual environment is like a separate terrarium with its own set of conditions that can be customized to suit the species of snake.\n",
    "- Next, we have **channels**. Channels in Conda are like pet stores where you can browse and download packages that you need for your projects. There are public channels available, like anaconda and conda-forge, and private channels that you can create for your own organization.\n",
    "- Finally, we have **packages**. Packages are like the food and accessories that you buy for your snakes. They are the collections of libraries and dependencies that you need for your projects. You can download packages from channels and install them in your virtual environments.\n"
   ]
  },
  {
   "cell_type": "markdown",
   "id": "b2c80638",
   "metadata": {},
   "source": [
    "\n",
    "<div class=\"alert alert-info\">\n",
    "    \n",
    "### Question 9\n",
    "\n",
    "Which of the following descriptions is most accurate about Conda?\n",
    "\n",
    "A)  Conda is a package and environment manager for many languages   \n",
    "B)  Conda is an environment manager only for Python packages used in Jupyter Lab   \n",
    "C)  Conda is a package manager for all languages   \n",
    "D)  Conda is a tool similar to Git for version-controlling Python packages   \n",
    "E)  Conda is a package and environment manager only for Python   \n",
    "</div>\n",
    "\n",
    "_Points:_ 1"
   ]
  },
  {
   "cell_type": "code",
   "execution_count": 29,
   "id": "c6535e0d",
   "metadata": {
    "tags": []
   },
   "outputs": [
    {
     "data": {
      "text/plain": [
       "'A'"
      ]
     },
     "execution_count": 29,
     "metadata": {},
     "output_type": "execute_result"
    }
   ],
   "source": [
    "# Your answer should be a string with all the letters of the options you think are correct, e.g. 'AB'\n",
    "q9 = \"A\"\n",
    "q9"
   ]
  },
  {
   "cell_type": "code",
   "execution_count": 30,
   "id": "4330b941",
   "metadata": {
    "deletable": false,
    "editable": false
   },
   "outputs": [
    {
     "data": {
      "text/html": [
       "<p><strong><pre style='display: inline;'>q9</pre></strong> passed! 🍀</p>"
      ],
      "text/plain": [
       "q9 results: All test cases passed!"
      ]
     },
     "execution_count": 30,
     "metadata": {},
     "output_type": "execute_result"
    }
   ],
   "source": [
    "grader.check(\"q9\")"
   ]
  },
  {
   "cell_type": "markdown",
   "id": "ce2b4b34",
   "metadata": {},
   "source": [
    "<div class=\"alert alert-info\">\n",
    "    \n",
    "### Question 10\n",
    "\n",
    "Which of the following statements are correct about Conda?\n",
    "\n",
    "A)  It only works on Linux and Mac at the moment     \n",
    "B)  It is a command-line tool     \n",
    "C)  It it installed as part of Miniconda and Anaconda    \n",
    "D)  It ensures the reproducibility of a computational environment    \n",
    "E)  It requires JupyterLab to access different environments   \n",
    "    \n",
    "</div>\n",
    "\n",
    "_Points:_ 1"
   ]
  },
  {
   "cell_type": "code",
   "execution_count": 33,
   "id": "4c850a3a",
   "metadata": {
    "tags": []
   },
   "outputs": [
    {
     "data": {
      "text/plain": [
       "'BCD'"
      ]
     },
     "execution_count": 33,
     "metadata": {},
     "output_type": "execute_result"
    }
   ],
   "source": [
    "# Your answer should be a string with all the letters of the options you think are correct, e.g. 'AB'\n",
    "q10 = \"BCD\"\n",
    "q10"
   ]
  },
  {
   "cell_type": "code",
   "execution_count": 34,
   "id": "8d2d2464",
   "metadata": {
    "deletable": false,
    "editable": false
   },
   "outputs": [
    {
     "data": {
      "text/html": [
       "<p><strong><pre style='display: inline;'>q10</pre></strong> passed! 🍀</p>"
      ],
      "text/plain": [
       "q10 results: All test cases passed!"
      ]
     },
     "execution_count": 34,
     "metadata": {},
     "output_type": "execute_result"
    }
   ],
   "source": [
    "grader.check(\"q10\")"
   ]
  },
  {
   "cell_type": "markdown",
   "id": "cdbb19d1",
   "metadata": {},
   "source": [
    "## Conda Environments"
   ]
  },
  {
   "cell_type": "markdown",
   "id": "49a8a355",
   "metadata": {},
   "source": [
    "\n",
    "<div class=\"alert alert-info\">\n",
    "    \n",
    "### Question 11\n",
    "\n",
    "\n",
    "Conda environments help you isolate packages that you use for specific projects and automatically handle dependencies and version requirements for each set of packages.\n",
    "\n",
    "A)  True   \n",
    "B)  False\n",
    "  \n",
    "\n",
    "</div>\n",
    "\n",
    "_Points:_ 1"
   ]
  },
  {
   "cell_type": "code",
   "execution_count": 37,
   "id": "83942287",
   "metadata": {
    "tags": []
   },
   "outputs": [
    {
     "data": {
      "text/plain": [
       "'A'"
      ]
     },
     "execution_count": 37,
     "metadata": {},
     "output_type": "execute_result"
    }
   ],
   "source": [
    "# Your answer should be a string with all the letters of the options you think are correct, e.g. 'AB'\n",
    "q11 = \"A\"\n",
    "q11"
   ]
  },
  {
   "cell_type": "code",
   "execution_count": 38,
   "id": "f7be8e69",
   "metadata": {
    "deletable": false,
    "editable": false
   },
   "outputs": [
    {
     "data": {
      "text/html": [
       "<p><strong><pre style='display: inline;'>q11</pre></strong> passed! 🎉</p>"
      ],
      "text/plain": [
       "q11 results: All test cases passed!"
      ]
     },
     "execution_count": 38,
     "metadata": {},
     "output_type": "execute_result"
    }
   ],
   "source": [
    "grader.check(\"q11\")"
   ]
  },
  {
   "cell_type": "markdown",
   "id": "b6a74b44",
   "metadata": {},
   "source": [
    "\n",
    "<div class=\"alert alert-info\">\n",
    "    \n",
    "### Question 12\n",
    "\n",
    "One downside of Conda environments is that the same version of Python is shared among all environments.\n",
    "\n",
    "A)  True   \n",
    "B)  False\n",
    "\n",
    "</div>\n",
    "\n",
    "_Points:_ 1"
   ]
  },
  {
   "cell_type": "code",
   "execution_count": 39,
   "id": "cd6009e3",
   "metadata": {
    "tags": []
   },
   "outputs": [
    {
     "data": {
      "text/plain": [
       "'B'"
      ]
     },
     "execution_count": 39,
     "metadata": {},
     "output_type": "execute_result"
    }
   ],
   "source": [
    "# Your answer should be a string with all the letters of the options you think are correct, e.g. 'AB'\n",
    "q12 = \"B\"\n",
    "q12"
   ]
  },
  {
   "cell_type": "code",
   "execution_count": 40,
   "id": "062fbc8c",
   "metadata": {
    "deletable": false,
    "editable": false
   },
   "outputs": [
    {
     "data": {
      "text/html": [
       "<p><strong><pre style='display: inline;'>q12</pre></strong> passed! 🚀</p>"
      ],
      "text/plain": [
       "q12 results: All test cases passed!"
      ]
     },
     "execution_count": 40,
     "metadata": {},
     "output_type": "execute_result"
    }
   ],
   "source": [
    "grader.check(\"q12\")"
   ]
  },
  {
   "cell_type": "markdown",
   "id": "96c699ca",
   "metadata": {},
   "source": [
    "**Step 7:** Let's now practice creating a environment for our `project`. Create the environment called `dstoolbox`\n",
    "\n",
    "<details><summary><b>Hint:</b></summary>\n",
    "You will need to use <code>conda create</code> command\n",
    "</details>\n",
    "\n",
    "Double check that you created the environment successfully by running `conda info --envs`. You should see `dstoolbox` in a list of environments (most likely you just have two at this point) "
   ]
  },
  {
   "cell_type": "markdown",
   "id": "be7f8ce0",
   "metadata": {},
   "source": [
    "<div class=\"alert alert-info\">\n",
    "    \n",
    "### Question 13\n",
    "    \n",
    "We would like to use the created `dstoolbox` environment in JupyterLab. In which of the following scenarios will we be able to use the `dstoolbox` environment in JupyterLab? Select all correct answers.\n",
    "\n",
    "A)  Install `jupyterlab` in the base environment  \n",
    "B)  Install `jupyterlab` in the `dstoolbox` environment  \n",
    "C)  Install `jupyterlab` and `ipykernel` in the base environment, and `nb_conda_kernels` in the ml-model environment.   \n",
    "D)  Install `jupyterlab` and `nb_conda_kernels` in the base environment, and `ipykernel` in the `dstoolbox` environment  \n",
    "E)  As long as JupyterLab is installed in one of the existing Conda environments, it will automatically have access to all other environments on the same system. \n",
    "    \n",
    "</div>\n",
    "\n",
    "_Points:_ 1"
   ]
  },
  {
   "cell_type": "code",
   "execution_count": 43,
   "id": "a2ca91f1",
   "metadata": {
    "tags": []
   },
   "outputs": [
    {
     "data": {
      "text/plain": [
       "'BD'"
      ]
     },
     "execution_count": 43,
     "metadata": {},
     "output_type": "execute_result"
    }
   ],
   "source": [
    "# Your answer should be a string with all the letters of the options you think are correct, e.g. 'AB'\n",
    "q13 = \"BD\"\n",
    "q13"
   ]
  },
  {
   "cell_type": "code",
   "execution_count": 44,
   "id": "53ae35be",
   "metadata": {
    "deletable": false,
    "editable": false
   },
   "outputs": [
    {
     "data": {
      "text/html": [
       "<p><strong><pre style='display: inline;'>q13</pre></strong> passed! 🎉</p>"
      ],
      "text/plain": [
       "q13 results: All test cases passed!"
      ]
     },
     "execution_count": 44,
     "metadata": {},
     "output_type": "execute_result"
    }
   ],
   "source": [
    "grader.check(\"q13\")"
   ]
  },
  {
   "cell_type": "markdown",
   "id": "2d3d9dbd",
   "metadata": {},
   "source": [
    "**Step 8:**  Follow the steps described in Module 6 to make Conda available in Jupyter Lab\n",
    "\n",
    "<details><summary><b>Hint:</b></summary>\n",
    "\n",
    "To make your new environment visible in Jupyter Lab you need the following steps: \n",
    "    \n",
    "1. install <code>nb_conda_kernels</code> into your **base** environment\n",
    "2. install <code>ipykernel</code> into your **dstoolbox** environment\n",
    "    \n",
    "</details>\n",
    "  \n",
    "\n",
    "After you completed this step, open Jupyter Lab to check if your new environment is available using `conda env list` command. Activate your new `dstoolbox`environment."
   ]
  },
  {
   "cell_type": "markdown",
   "id": "f7c7e5fb",
   "metadata": {},
   "source": [
    "----\n",
    "\n",
    "## Channels & Packages\n",
    "\n",
    "Conda **channels** are the locations where packages are stored. A Conda channel is essentially a collection of Conda packages hosted on a remote server, which can be accessed and installed using the conda package manager.\n",
    "\n",
    "The `default` Conda channel is hosted on the Anaconda Cloud platform, which contains a large collection of commonly used packages for scientific computing, data analysis, and machine learning. *Often, we only need to use the default channel* as it contains so many of the commonly used data science packages. However, if a package is not available on the default channel, you can search for it on other channels or create your own channel.\n",
    "\n",
    "There are several public Conda channels available, such as:\n",
    "\n",
    "- `conda-forge` which contains a large collection of community-contributed packages, including more recent versions of many of the packages in the default channel\n",
    "- `bioconda` which contains packages for bioinformatics and computational biology\n",
    "- `pytorch` which contain many machine learning packages\n",
    "\n",
    "To use a package from a Conda channel, you can specify the channel name when installing the package using the `conda` command. For example, to install a package from a specific channel, you would run `conda install -c channel_name package_name`\n",
    "\n",
    "Channels provide access to different versions of **packages**, ensuring compatibility and enabling users to choose the most appropriate version for their needs. Different versions of a package refer to distinct releases of a software library or application that include updates, improvements, bug fixes, or new features compared to previous iterations. As developers work on a package, they typically assign version numbers to indicate the progress and evolution of the software, helping users identify the most suitable version for their requirements and ensuring compatibility with other packages or system components.\n",
    "\n",
    "For example, package versioning:\n",
    "\n",
    "- 2.0.0: This is a major release where new features or significant changes are introduced, potentially causing incompatibilities with previous versions (1.x.x).\n",
    "- 2.1.0: This would be a minor release, adding new features or improvements while maintaining backward compatibility with the 2.x.x series.\n",
    "- 2.1.1: This represents a patch release, fixing bugs or making minor updates without adding new features, and maintaining compatibility with version 2.1.x.\n",
    "\n",
    "In the case of pre-release versions:\n",
    "\n",
    "- 3.0.0-alpha: This is an alpha release for version 3.0.0, indicating that it's an unstable version under development and not recommended for production use.\n",
    "- 3.0.0-beta: This is a beta release for version 3.0.0, suggesting that the software is closer to being stable but may still have some bugs or issues."
   ]
  },
  {
   "cell_type": "markdown",
   "id": "fb247d64",
   "metadata": {},
   "source": [
    "\n",
    "<div class=\"alert alert-info\">\n",
    "    \n",
    "### Question 14\n",
    "\n",
    "We would like to install a package called `scikit-learn` in our environment, but we first want to check what versions are available on different channels. Your task is to use the appropriate Conda command to search for `scikit-learn` in `pkgs/main` channel.\n",
    "\n",
    "Write a shell command that produces a one-line output showing the latest version of `scikit-learn` in the `pkgs/main` channel. Here's an example output:\n",
    "\n",
    "`scikit-learn  1.2.2  py39hd77b12b_0  pkgs/main`\n",
    "\n",
    "\n",
    "<details><summary><b>Hint:</b></summary>\n",
    "Consider using shell command such as <code>grep</code>, and the pipe operator that you've learned about in previous modules to achieve this. To see the last line you can use <code>tail -n 1</code>\n",
    "</details> \n",
    "\n",
    "</div>\n",
    "\n",
    "_Points:_ 1"
   ]
  },
  {
   "cell_type": "code",
   "execution_count": null,
   "id": "0be916db",
   "metadata": {
    "tags": []
   },
   "outputs": [],
   "source": [
    "# Your answer should be a string with a single line command surrounded by ''\n",
    "q14 = ..."
   ]
  },
  {
   "cell_type": "code",
   "execution_count": null,
   "id": "9cf244f1",
   "metadata": {
    "deletable": false,
    "editable": false
   },
   "outputs": [],
   "source": [
    "grader.check(\"q14\")"
   ]
  },
  {
   "cell_type": "markdown",
   "id": "d834795f",
   "metadata": {},
   "source": [
    "You can install a package into an existing environment using the `conda install` command. This command accepts a list of package specifications (i.e., `scikit-learn=0.22`) and installs a set of packages consistent with those specifications and compatible with the underlying environment. If full compatibility cannot be assured, an error is reported and the environment is not changed.\n",
    "\n",
    "By default the conda install command will install packages into the current, active environment.\n",
    "As was the case when listing packages to install when using the `conda create` command, if version numbers are not explicitly provided, Conda will attempt to install the newest versions of any requested packages. To accomplish this, Conda may need to update some packages that are already installed or install additional packages. It is always a good idea to explicitly provide version numbers when installing packages with the conda install command. For example, the following would install a particular version of scikit-Learn, into the current, active environment.\n",
    "\n",
    "`conda install scikit-learn=0.22`\n"
   ]
  },
  {
   "cell_type": "markdown",
   "id": "150a3ddc",
   "metadata": {},
   "source": [
    "<div class=\"alert alert-info\">\n",
    "    \n",
    "### Question 15\n",
    "    \n",
    "What command we can use to install `scikit-learn` 1.2.1 from the `pkgs/main` channel into the currently activate environment?\n",
    "    \n",
    "Use the shortest possible command that specify both package version and channel\n",
    "    \n",
    "</div>\n",
    "\n",
    "_Points:_ 1"
   ]
  },
  {
   "cell_type": "code",
   "execution_count": null,
   "id": "66abdbb1",
   "metadata": {
    "tags": []
   },
   "outputs": [],
   "source": [
    "# Your answer should be a string with a single line command surrounded by ''\n",
    "q15 = ..."
   ]
  },
  {
   "cell_type": "code",
   "execution_count": null,
   "id": "4fb6cd39",
   "metadata": {
    "deletable": false,
    "editable": false
   },
   "outputs": [],
   "source": [
    "grader.check(\"q15\")"
   ]
  },
  {
   "cell_type": "markdown",
   "id": "42756e4e",
   "metadata": {},
   "source": [
    "**Step 9:** Install version 1.2.1 of`scikit-learn` package from the `pkgs/main` channel into the currently activate environment "
   ]
  },
  {
   "cell_type": "markdown",
   "id": "52fd1f7c",
   "metadata": {},
   "source": [
    "## Exporting Conda Environment"
   ]
  },
  {
   "cell_type": "markdown",
   "id": "8b43f526",
   "metadata": {},
   "source": [
    "<div class=\"alert alert-info\">\n",
    "    \n",
    "### Question 16\n",
    "    \n",
    "Which of the statements below are correct about using the following Conda command to reproduce a computational environment?\n",
    "\n",
    "`conda env export -f environment.yaml`\n",
    "\n",
    "A)  Only explicitly installed packages will be exactly replicated on another computer with a different OS   \n",
    "B)  Your exported environment can be exactly reproduced on another computer with any operating system   \n",
    "C)  This command allows Conda to automatically resolve OS-related package conflicts   \n",
    "D)  Your exported environment can be exactly reproduced on another computer with the same operating system    \n",
    "    \n",
    "</div>\n",
    "\n",
    "_Points:_ 1"
   ]
  },
  {
   "cell_type": "code",
   "execution_count": null,
   "id": "54e12f2f",
   "metadata": {
    "tags": []
   },
   "outputs": [],
   "source": [
    "# Your answer should be a string with all the letters of the options you think are correct, e.g. 'AB'\n",
    "q16 = ..."
   ]
  },
  {
   "cell_type": "code",
   "execution_count": null,
   "id": "447c6280",
   "metadata": {
    "deletable": false,
    "editable": false
   },
   "outputs": [],
   "source": [
    "grader.check(\"q16\")"
   ]
  },
  {
   "cell_type": "markdown",
   "id": "fd08ad02",
   "metadata": {},
   "source": [
    "**Step 10:** Export your environment into `environment.yaml` file in way that will allow your environment to work **on different operating systems**. Make sure it is saved into your `project repo`"
   ]
  },
  {
   "cell_type": "markdown",
   "id": "db88b154",
   "metadata": {},
   "source": [
    "<!-- BEGIN QUESTION -->\n",
    "\n",
    "\n",
    "<div class=\"alert alert-info\">\n",
    "    \n",
    "### Question 17\n",
    "\n",
    "Suppose that we would like to provide an environment file called `environment.yaml` to our coworkers so that they can easily replicate our computational environment on their machines for a particular project.\n",
    "\n",
    "However, you want to **manually** modify some parameters in your `environment.yaml` to make sure that:\n",
    "\n",
    "- The environment name is `project-env` \n",
    "- It installs Python 3.10 or higher \n",
    "- It installs the latest version of libraries that you need to run the `Report.ipynb` that you can find in your `project repo`. Note that `sklearn` is a short of `scikit-learn` package\n",
    "- The environment will be available to JupyterLab \n",
    "    \n",
    "Save your changes push and commit them to the remote repo.  Create a pull request to merge the content of `developer-1` branch into the `main` branch, and merge the changes.\n",
    "\n",
    "Then navigate to the remote `project` repo, open the `environment.yaml` and provide a link to the file.\n",
    "\n",
    "The link should look something like this: https://github.com/YOUR-USER-NAME/project/blob/main/environment.yaml\n",
    "\n",
    "\n",
    "</div>\n",
    "\n",
    "_Points:_ 2"
   ]
  },
  {
   "cell_type": "markdown",
   "id": "a3ba84e7",
   "metadata": {},
   "source": [
    "_Type your answer here, replacing this text._"
   ]
  },
  {
   "cell_type": "markdown",
   "id": "d87a2677",
   "metadata": {},
   "source": [
    "<!-- END QUESTION -->\n",
    "\n",
    "**Step 11:** Let's make final touches that we learned in previous Modules to make sure that your `project` is ready for submission:\n",
    "    \n",
    "- Modify your `README` file so it reflect what is you repo is about\n",
    "- Add necessary files to `.gitignore`\n",
    "    \n",
    "    \n",
    "Push all the changes to the remote `project` repo\n"
   ]
  },
  {
   "cell_type": "markdown",
   "id": "462e24d2",
   "metadata": {},
   "source": [
    "<!-- BEGIN QUESTION -->\n",
    "\n",
    "<div class=\"alert alert-info\">\n",
    "    \n",
    "### Question 18\n",
    "\n",
    "Send us a URL link to your `project` repo (the link should look similar to this one: https://github.com/YOUR_USER_NAME/project)\n",
    "\n",
    "You will be evaluated based on:\n",
    "\n",
    "- project structure\n",
    "- file/folder naming\n",
    "- presence of all required file\n",
    "- comprehensive README.md\n",
    "- .gitignore file\n",
    "- quality of commit message\n",
    "\n",
    "</div>\n",
    "\n",
    "_Points:_ 4"
   ]
  },
  {
   "cell_type": "markdown",
   "id": "55bcc82c",
   "metadata": {},
   "source": [
    "_Type your answer here, replacing this text._"
   ]
  },
  {
   "cell_type": "markdown",
   "id": "113b0dcf",
   "metadata": {},
   "source": [
    "<!-- END QUESTION -->\n",
    "\n",
    "<div class=\"alert alert-danger\" style=\"color:black\">\n",
    "    \n",
    "**Restart and run all before submitting**\n",
    "    \n",
    "Before submitting,\n",
    "don't forget to run all cells in your notebook\n",
    "to make sure there are no errors\n",
    "and so that the TAs can see the output of all the cells properly.\n",
    "You can do this by clicking the ▶▶ button\n",
    "or going to `Kernel -> Restart Kernel and Run All Cells...` in the menu.\n",
    "This is not only important for this course,\n",
    "but a good habit you should get into before ever committing a notebook to GitHub,\n",
    "so that your collaborators can run it from top to bottom\n",
    "without issues.\n",
    "</div>"
   ]
  },
  {
   "cell_type": "markdown",
   "id": "47bdf9d5",
   "metadata": {},
   "source": [
    "------\n",
    "\n",
    "Assignment 6 completed, Congratulations! 🤪"
   ]
  },
  {
   "cell_type": "markdown",
   "id": "041e0677",
   "metadata": {
    "deletable": false,
    "editable": false
   },
   "source": [
    "---\n",
    "\n",
    "To double-check your work, the cell below will rerun all of the autograder tests."
   ]
  },
  {
   "cell_type": "code",
   "execution_count": null,
   "id": "30245451",
   "metadata": {
    "deletable": false,
    "editable": false
   },
   "outputs": [],
   "source": [
    "grader.check_all()"
   ]
  }
 ],
 "metadata": {
  "jupytext": {
   "cell_metadata_filter": "-all",
   "main_language": "python",
   "notebook_metadata_filter": "-all"
  },
  "kernelspec": {
   "display_name": "Python 3 (ipykernel)",
   "language": "python",
   "name": "python3"
  },
  "language_info": {
   "codemirror_mode": {
    "name": "ipython",
    "version": 3
   },
   "file_extension": ".py",
   "mimetype": "text/x-python",
   "name": "python",
   "nbconvert_exporter": "python",
   "pygments_lexer": "ipython3",
   "version": "3.13.5"
  },
  "otter": {
   "OK_FORMAT": true,
   "tests": {
    "q1": {
     "name": "q1",
     "points": 1,
     "suites": [
      {
       "cases": [
        {
         "code": ">>> assert 'a' in q1.lower()\n>>> assert 'c' in q1.lower()\n>>> assert 'f' in q1.lower()\n",
         "failure_message": "You are missing one of the correct answers",
         "hidden": false,
         "locked": false
        },
        {
         "code": ">>> assert 'b' not in q1.lower()\n>>> assert 'd' not in q1.lower()\n>>> assert 'e' not in q1.lower()\n",
         "failure_message": "At least one of the options you have selected is not correct",
         "hidden": false,
         "locked": false
        }
       ],
       "scored": true,
       "setup": "",
       "teardown": "",
       "type": "doctest"
      }
     ]
    },
    "q10": {
     "name": "q10",
     "points": 1,
     "suites": [
      {
       "cases": [
        {
         "code": ">>> assert 'b' in q10.lower()\n>>> assert 'c' in q10.lower()\n>>> assert 'd' in q10.lower()\n",
         "failure_message": "You are missing one of the correct answers",
         "hidden": false,
         "locked": false
        },
        {
         "code": ">>> assert 'a' not in q10.lower()\n>>> assert 'e' not in q10.lower()\n",
         "failure_message": "At least one of the options you have selected is not correct",
         "hidden": false,
         "locked": false
        }
       ],
       "scored": true,
       "setup": "",
       "teardown": "",
       "type": "doctest"
      }
     ]
    },
    "q11": {
     "name": "q11",
     "points": 1,
     "suites": [
      {
       "cases": [
        {
         "code": ">>> assert 'a' == q11.lower()\n",
         "failure_message": "Your answer is incorrect or you are missing one of the correct answers",
         "hidden": false,
         "locked": false
        }
       ],
       "scored": true,
       "setup": "",
       "teardown": "",
       "type": "doctest"
      }
     ]
    },
    "q12": {
     "name": "q12",
     "points": 1,
     "suites": [
      {
       "cases": [
        {
         "code": ">>> assert 'b' == q12.lower()\n",
         "failure_message": "You are missing one of the correct answers",
         "hidden": false,
         "locked": false
        }
       ],
       "scored": true,
       "setup": "",
       "teardown": "",
       "type": "doctest"
      }
     ]
    },
    "q13": {
     "name": "q13",
     "points": 1,
     "suites": [
      {
       "cases": [
        {
         "code": ">>> assert 'b' in q13.lower()\n>>> assert 'd' in q13.lower()\n",
         "failure_message": "You are missing one of the correct answers",
         "hidden": false,
         "locked": false
        },
        {
         "code": ">>> assert 'a' not in q13.lower()\n>>> assert 'c' not in q13.lower()\n>>> assert 'e' not in q13.lower()\n",
         "failure_message": "At least one of the options you have selected is not correct",
         "hidden": false,
         "locked": false
        }
       ],
       "scored": true,
       "setup": "",
       "teardown": "",
       "type": "doctest"
      }
     ]
    },
    "q14": {
     "name": "q14",
     "points": 1,
     "suites": [
      {
       "cases": [
        {
         "code": ">>> q14_string = q14.replace(\" \", \"\")\n>>> q14_string = q14_string.replace('\"pkgs/main\"',\"'pkgs/main'\")\n>>> assert q14_string == \"condasearchscikit-learn|grep'pkgs/main'|tail-n1\"\n",
         "failure_message": "Your answer is incorrect",
         "hidden": false,
         "locked": false
        }
       ],
       "scored": true,
       "setup": "",
       "teardown": "",
       "type": "doctest"
      }
     ]
    },
    "q15": {
     "name": "q15",
     "points": 1,
     "suites": [
      {
       "cases": [
        {
         "code": ">>> q15_string = q15.replace(\" \", \"\")\n>>> assert q15_string == \"condainstallscikit-learn=1.2.1-cpkgs/main\"\n",
         "failure_message": "Your answer is incorrect",
         "hidden": false,
         "locked": false
        }
       ],
       "scored": true,
       "setup": "",
       "teardown": "",
       "type": "doctest"
      }
     ]
    },
    "q16": {
     "name": "q16",
     "points": 1,
     "suites": [
      {
       "cases": [
        {
         "code": ">>> assert 'd' == q16.lower()\n",
         "failure_message": "Your answer is incorrect or you are missing one of the correct answers",
         "hidden": false,
         "locked": false
        }
       ],
       "scored": true,
       "setup": "",
       "teardown": "",
       "type": "doctest"
      }
     ]
    },
    "q2": {
     "name": "q2",
     "points": 1,
     "suites": [
      {
       "cases": [
        {
         "code": ">>> assert 'd' in q2.lower()\n>>> assert 'b' in q2.lower()\n>>> assert 'c' in q2.lower()\n",
         "failure_message": "You are missing one of the correct answers",
         "hidden": false,
         "locked": false
        },
        {
         "code": ">>> assert 'a' not in q2.lower()\n",
         "failure_message": "At least one of the options you have selected is not correct",
         "hidden": false,
         "locked": false
        },
        {
         "code": ">>> assert q2.upper() == 'DBC'\n",
         "failure_message": "At least one of the options you have selected is not in correct order",
         "hidden": false,
         "locked": false
        }
       ],
       "scored": true,
       "setup": "",
       "teardown": "",
       "type": "doctest"
      }
     ]
    },
    "q3": {
     "name": "q3",
     "points": 1,
     "suites": [
      {
       "cases": [
        {
         "code": ">>> assert 'c' == q3.lower()\n",
         "failure_message": "You chose incorrect asnwer",
         "hidden": false,
         "locked": false
        }
       ],
       "scored": true,
       "setup": "",
       "teardown": "",
       "type": "doctest"
      }
     ]
    },
    "q4": {
     "name": "q4",
     "points": 1,
     "suites": [
      {
       "cases": [
        {
         "code": ">>> assert 'd' == q4.lower()\n>>> \n",
         "failure_message": "Your answer is incorrect or you are missing one of the correct answers",
         "hidden": false,
         "locked": false
        }
       ],
       "scored": true,
       "setup": "",
       "teardown": "",
       "type": "doctest"
      }
     ]
    },
    "q5": {
     "name": "q5",
     "points": 1,
     "suites": [
      {
       "cases": [
        {
         "code": ">>> assert 'b' == q5.lower()\n",
         "failure_message": "You are missing one of the correct answers",
         "hidden": false,
         "locked": false
        }
       ],
       "scored": true,
       "setup": "",
       "teardown": "",
       "type": "doctest"
      }
     ]
    },
    "q6": {
     "name": "q6",
     "points": 1,
     "suites": [
      {
       "cases": [
        {
         "code": ">>> assert 'd' == q6.lower()\n",
         "failure_message": "You are missing one of the correct answers",
         "hidden": false,
         "locked": false
        }
       ],
       "scored": true,
       "setup": "",
       "teardown": "",
       "type": "doctest"
      }
     ]
    },
    "q7": {
     "name": "q7",
     "points": 1,
     "suites": [
      {
       "cases": [
        {
         "code": ">>> assert q7.upper() == 'BACBAC'\n",
         "failure_message": "At least one of the options you have selected is not in correct order",
         "hidden": false,
         "locked": false
        }
       ],
       "scored": true,
       "setup": "",
       "teardown": "",
       "type": "doctest"
      }
     ]
    },
    "q8": {
     "name": "q8",
     "points": 1,
     "suites": [
      {
       "cases": [
        {
         "code": ">>> assert 'd' == q8.lower()\n",
         "failure_message": "You chose incorrect asnwer",
         "hidden": false,
         "locked": false
        }
       ],
       "scored": true,
       "setup": "",
       "teardown": "",
       "type": "doctest"
      }
     ]
    },
    "q9": {
     "name": "q9",
     "points": 1,
     "suites": [
      {
       "cases": [
        {
         "code": ">>> assert 'a' == q9.lower()\n",
         "failure_message": "Your answer is incorrect or you are missing one of the correct answers",
         "hidden": false,
         "locked": false
        }
       ],
       "scored": true,
       "setup": "",
       "teardown": "",
       "type": "doctest"
      }
     ]
    }
   }
  }
 },
 "nbformat": 4,
 "nbformat_minor": 5
}
